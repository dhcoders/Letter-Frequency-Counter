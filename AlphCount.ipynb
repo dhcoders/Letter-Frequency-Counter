{
 "cells": [
  {
   "cell_type": "code",
   "execution_count": 10,
   "metadata": {},
   "outputs": [],
   "source": [
    "# Create tagline variable\n",
    "taglineUP = \"You can have data without information but you cannot have information without data\"\n",
    "tagline = taglineUP.lower()\n",
    "\n",
    "# Alphabet and frequencies variable\n",
    "alphabet = ['a', 'b', 'c', 'd', 'e', 'f', 'g', 'h', 'i', 'j', 'k', 'l', 'm', 'n', 'o', 'p', 'q', 'r', 's', 't', 'u', 'v', 'w', 'x', 'y', 'z']\n",
    "freq = [0, 0, 0, 0, 0, 0, 0, 0, 0, 0, 0, 0, 0, 0, 0, 0, 0, 0, 0, 0, 0, 0, 0, 0, 0, 0]\n",
    "\n",
    "for char in tagline:#for every index (each character) in the tagline\n",
    "    if char in alphabet: #if that char matches with something in alphabet\n",
    "        index = alphabet.index(char) #assign the value of variable index to that index\n",
    "        freq[index] += 1 #add 1 to the matching index to tally the values.\n",
    "        \n",
    "\n"
   ]
  },
  {
   "cell_type": "code",
   "execution_count": 11,
   "metadata": {},
   "outputs": [
    {
     "name": "stdout",
     "output_type": "stream",
     "text": [
      "a:10\n",
      "b:1\n",
      "c:2\n",
      "d:2\n",
      "e:2\n",
      "f:2\n",
      "g:0\n",
      "h:4\n",
      "i:6\n",
      "j:0\n",
      "k:0\n",
      "l:0\n",
      "m:2\n",
      "n:7\n",
      "o:9\n",
      "p:0\n",
      "q:0\n",
      "r:2\n",
      "s:0\n",
      "t:10\n",
      "u:5\n",
      "v:2\n",
      "w:2\n",
      "x:0\n",
      "y:2\n",
      "z:0\n"
     ]
    }
   ],
   "source": [
    "#PRINT RESULTS METHOD 2\n",
    "ind = 0\n",
    "for letter in alphabet:\n",
    "    print(letter + ':' + str(freq[ind]))\n",
    "    ind += 1\n"
   ]
  },
  {
   "cell_type": "code",
   "execution_count": 12,
   "metadata": {},
   "outputs": [
    {
     "name": "stdout",
     "output_type": "stream",
     "text": [
      "a = 10\n",
      "b = 1\n",
      "c = 2\n",
      "d = 2\n",
      "e = 2\n",
      "f = 2\n",
      "g = 0\n",
      "h = 4\n",
      "i = 6\n",
      "j = 0\n",
      "k = 0\n",
      "l = 0\n",
      "m = 2\n",
      "n = 7\n",
      "o = 9\n",
      "p = 0\n",
      "q = 0\n",
      "r = 2\n",
      "s = 0\n",
      "t = 10\n",
      "u = 5\n",
      "v = 2\n",
      "w = 2\n",
      "x = 0\n",
      "y = 2\n",
      "z = 0\n"
     ]
    }
   ],
   "source": [
    "#PRINT RESULTS method 1\n",
    "\n",
    "\n",
    "for i, letter in enumerate(alphabet): #enumerate gets index + value from a list\n",
    "        #This will loop through all returned by enumerate alpha, assigning index to i.\n",
    "        print(f\"{letter} = {freq[i]}\") #print letter = freq at index i."
   ]
  }
 ],
 "metadata": {
  "kernelspec": {
   "display_name": "Python 3",
   "language": "python",
   "name": "python3"
  },
  "language_info": {
   "codemirror_mode": {
    "name": "ipython",
    "version": 3
   },
   "file_extension": ".py",
   "mimetype": "text/x-python",
   "name": "python",
   "nbconvert_exporter": "python",
   "pygments_lexer": "ipython3",
   "version": "3.12.0"
  }
 },
 "nbformat": 4,
 "nbformat_minor": 2
}
